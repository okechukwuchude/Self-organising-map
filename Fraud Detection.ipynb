{
 "cells": [
  {
   "cell_type": "code",
   "execution_count": 6,
   "id": "a491c3b1-6965-4b63-ba8a-12bd9e2b84cb",
   "metadata": {},
   "outputs": [],
   "source": [
    "## Importing the libraries\n",
    "import numpy as np\n",
    "import pandas as pd\n",
    "import matplotlib.pyplot as plt"
   ]
  },
  {
   "cell_type": "code",
   "execution_count": 12,
   "id": "5dc1479e-906d-4684-b15c-5f0a64db00fa",
   "metadata": {},
   "outputs": [],
   "source": [
    "data = pd.read_csv(r\"C:\\Users\\okechukwu chude\\Documents\\Neural Network\\Self-organising-map\\Credit_Card_Applications.csv\")"
   ]
  },
  {
   "cell_type": "code",
   "execution_count": 14,
   "id": "0aa4b10f-10e7-4dea-bf1a-92f65dd4107d",
   "metadata": {},
   "outputs": [],
   "source": [
    "x = data.iloc[:, :-1].values\n",
    "y = data.iloc[:, -1].values"
   ]
  },
  {
   "cell_type": "markdown",
   "id": "5531b1f8-cfc0-4f0d-8b6c-0cddd4e7c511",
   "metadata": {},
   "source": [
    "feature scaling"
   ]
  },
  {
   "cell_type": "code",
   "execution_count": 16,
   "id": "0ff02e43-4d3e-4b5f-8812-da54c74d5d12",
   "metadata": {},
   "outputs": [],
   "source": [
    " from sklearn.preprocessing import MinMaxScaler\n",
    "scaled = MinMaxScaler(feature_range= (0,1))\n",
    "x = scaled.fit_transform(x)"
   ]
  },
  {
   "cell_type": "markdown",
   "id": "ac01737f-7c30-4a6c-9931-3905346f61e8",
   "metadata": {},
   "source": [
    "Training SOM"
   ]
  },
  {
   "cell_type": "code",
   "execution_count": null,
   "id": "49a6848d-5f78-4947-a5ba-a67b3030a4bb",
   "metadata": {},
   "outputs": [],
   "source": []
  }
 ],
 "metadata": {
  "kernelspec": {
   "display_name": "Python 3 (ipykernel)",
   "language": "python",
   "name": "python3"
  },
  "language_info": {
   "codemirror_mode": {
    "name": "ipython",
    "version": 3
   },
   "file_extension": ".py",
   "mimetype": "text/x-python",
   "name": "python",
   "nbconvert_exporter": "python",
   "pygments_lexer": "ipython3",
   "version": "3.11.4"
  }
 },
 "nbformat": 4,
 "nbformat_minor": 5
}
